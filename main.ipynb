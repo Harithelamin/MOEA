{
 "cells": [
  {
   "cell_type": "code",
   "execution_count": 2,
   "metadata": {},
   "outputs": [
    {
     "name": "stdout",
     "output_type": "stream",
     "text": [
      "Multi-objective evolutionary algorithms for solving the electric vehicle charging station infrastructure problem\n"
     ]
    }
   ],
   "source": [
    "print(\"Multi-objective evolutionary algorithms for solving the electric vehicle charging station infrastructure problem\")"
   ]
  },
  {
   "cell_type": "code",
   "execution_count": null,
   "metadata": {},
   "outputs": [
    {
     "name": "stdout",
     "output_type": "stream",
     "text": [
      "Python 3.13.2\n"
     ]
    }
   ],
   "source": [
    "# To avoid any error with TensorFlow, we use Python to 3.10 \n",
    "# !python --version"
   ]
  },
  {
   "cell_type": "code",
   "execution_count": 1,
   "metadata": {},
   "outputs": [
    {
     "name": "stdout",
     "output_type": "stream",
     "text": [
      "pip 24.3.1 from C:\\Users\\Lenovo\\AppData\\Local\\Programs\\Python\\Python313\\Lib\\site-packages\\pip (python 3.13)\n",
      "\n"
     ]
    }
   ],
   "source": [
    "!pip --version"
   ]
  },
  {
   "cell_type": "code",
   "execution_count": 4,
   "metadata": {},
   "outputs": [
    {
     "name": "stdout",
     "output_type": "stream",
     "text": [
      "Tools and Libraries:\n",
      "\n",
      "1- Python 3.\n",
      "\n",
      "2- OpenAI Gym for the environment.\n",
      "\n",
      "3- Deep to use Genetic Programming, implement an evolutionary algorithms.\n",
      "\n",
      "4- NumPy for numerical computations.\n",
      "\n",
      "5- pandas for data manipulation and analysis.\n",
      "\n",
      "6- requests for the process of sending and receiving data from websites.\n",
      "\n",
      "7- Matplotlib for plotting results.\n",
      "\n",
      "8- TensorFlow/PyTorch for more advanced RL algorithms like DQN.\n",
      "\n",
      "9- pymoo for for multi-objective optimization algorithms.\n",
      "\n",
      "10-Keras for the convenience of mathematical calculations\n",
      "about-time==4.2.1\n",
      "alive-progress==3.1.5\n",
      "asttokens==2.4.1\n",
      "autograd==1.7.0\n",
      "beautifulsoup4==4.12.3\n",
      "certifi==2024.8.30\n",
      "charset-normalizer==3.4.0\n",
      "cloudpickle==3.1.0\n",
      "cma==3.2.2\n",
      "colorama==0.4.6\n",
      "comm==0.2.2\n",
      "contourpy==1.3.0\n",
      "cycler==0.12.1\n",
      "deap==1.4.1\n",
      "debugpy==1.8.7\n",
      "decorator==5.1.1\n",
      "Deprecated==1.2.14\n",
      "dill==0.3.9\n",
      "executing==2.1.0\n",
      "Farama-Notifications==0.0.4\n",
      "fonttools==4.54.1\n",
      "frozendict==2.4.6\n",
      "grapheme==0.6.0\n",
      "gym==0.26.2\n",
      "gym-notices==0.0.8\n",
      "gymnasium==1.0.0\n",
      "html5lib==1.1\n",
      "idna==3.10\n",
      "ipykernel==6.29.5\n",
      "ipython==8.28.0\n",
      "jedi==0.19.1\n",
      "joblib==1.4.2\n",
      "jupyter_client==8.6.3\n",
      "jupyter_core==5.7.2\n",
      "kiwisolver==1.4.7\n",
      "lxml==5.3.0\n",
      "matplotlib==3.9.2\n",
      "matplotlib-inline==0.1.7\n",
      "multitasking==0.0.11\n",
      "nest-asyncio==1.6.0\n",
      "networkx==3.4.2\n",
      "numpy==2.1.3\n",
      "packaging==24.1\n",
      "pandas==2.2.3\n",
      "parso==0.8.4\n",
      "peewee==3.17.7\n",
      "pillow==11.0.0\n",
      "platformdirs==4.3.6\n",
      "prompt_toolkit==3.0.48\n",
      "psutil==6.1.0\n",
      "pure_eval==0.2.3\n",
      "Pygments==2.18.0\n",
      "pymoo==0.6.1.3\n",
      "pyparsing==3.2.0\n",
      "python-dateutil==2.9.0.post0\n",
      "pytz==2024.2\n",
      "pywin32==308\n",
      "pyzmq==26.2.0\n",
      "requests==2.32.3\n",
      "scikit-fuzzy==0.5.0\n",
      "scikit-learn==1.5.2\n",
      "scipy==1.14.1\n",
      "seaborn==0.13.2\n",
      "six==1.16.0\n",
      "soupsieve==2.6\n",
      "stack-data==0.6.3\n",
      "threadpoolctl==3.5.0\n",
      "tornado==6.4.1\n",
      "traitlets==5.14.3\n",
      "typing_extensions==4.12.2\n",
      "tzdata==2024.2\n",
      "urllib3==2.2.3\n",
      "wcwidth==0.2.13\n",
      "webencodings==0.5.1\n",
      "wrapt==1.16.0\n",
      "yfinance==0.2.48\n",
      "Requirement already satisfied: numpy in c:\\users\\lenovo\\appdata\\local\\programs\\python\\python313\\lib\\site-packages (2.1.3)System version 3.13.2 (tags/v3.13.2:4f8bb39, Feb  4 2025, 15:23:48) [MSC v.1942 64 bit (AMD64)]\n",
      "\n",
      "Requirement already satisfied: pandas in c:\\users\\lenovo\\appdata\\local\\programs\\python\\python313\\lib\\site-packages (2.2.3)\n",
      "Requirement already satisfied: matplotlib in c:\\users\\lenovo\\appdata\\local\\programs\\python\\python313\\lib\\site-packages (3.9.2)\n",
      "Requirement already satisfied: requests in c:\\users\\lenovo\\appdata\\local\\programs\\python\\python313\\lib\\site-packages (2.32.3)\n"
     ]
    },
    {
     "name": "stderr",
     "output_type": "stream",
     "text": [
      "ERROR: Could not find a version that satisfies the requirement tensorflow (from versions: none)\n",
      "\n",
      "[notice] A new release of pip is available: 24.3.1 -> 25.0.1\n",
      "[notice] To update, run: python.exe -m pip install --upgrade pip\n",
      "ERROR: No matching distribution found for tensorflow\n"
     ]
    }
   ],
   "source": [
    "print('Tools and Libraries:')\n",
    "print('\\n1- Python 3.')\n",
    "print('\\n2- OpenAI Gym for the environment.')\n",
    "print('\\n3- Deep to use Genetic Programming, implement an evolutionary algorithms.')\n",
    "print('\\n4- NumPy for numerical computations.')\n",
    "print('\\n5- pandas for data manipulation and analysis.')\n",
    "print('\\n6- requests for the process of sending and receiving data from websites.')\n",
    "print('\\n7- Matplotlib for plotting results.')\n",
    "print('\\n8- TensorFlow/PyTorch for more advanced RL algorithms like DQN.')\n",
    "print('\\n9- pymoo for for multi-objective optimization algorithms.')\n",
    "print('\\n10-Keras for the convenience of mathematical calculations')\n",
    "\n",
    "!pip3 freeze\n",
    "!pip3 install numpy pandas matplotlib requests tensorflow gym keras openai deap pymoo\n",
    "\n",
    "\n",
    "import sys\n",
    "print('System version',sys.version)"
   ]
  }
 ],
 "metadata": {
  "kernelspec": {
   "display_name": "Python 3",
   "language": "python",
   "name": "python3"
  },
  "language_info": {
   "codemirror_mode": {
    "name": "ipython",
    "version": 3
   },
   "file_extension": ".py",
   "mimetype": "text/x-python",
   "name": "python",
   "nbconvert_exporter": "python",
   "pygments_lexer": "ipython3",
   "version": "3.13.2"
  }
 },
 "nbformat": 4,
 "nbformat_minor": 2
}
