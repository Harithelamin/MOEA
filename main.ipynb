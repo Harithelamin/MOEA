{
 "cells": [
  {
   "cell_type": "code",
   "execution_count": 3,
   "metadata": {},
   "outputs": [
    {
     "name": "stdout",
     "output_type": "stream",
     "text": [
      "Multi-objective evolutionary algorithms for solving the electric vehicle charging station infrastructure problem\n"
     ]
    }
   ],
   "source": [
    "print(\"Multi-objective evolutionary algorithms for solving the electric vehicle charging station infrastructure problem\")"
   ]
  },
  {
   "cell_type": "code",
   "execution_count": 5,
   "metadata": {},
   "outputs": [
    {
     "name": "stdout",
     "output_type": "stream",
     "text": [
      "Python 3.8.5\n"
     ]
    }
   ],
   "source": [
    "# To avoid any error with TensorFlow, we use Python 3.8.5\n",
    "!python --version    "
   ]
  },
  {
   "cell_type": "code",
   "execution_count": 6,
   "metadata": {},
   "outputs": [
    {
     "name": "stdout",
     "output_type": "stream",
     "text": [
      "pip 20.1.1 from c:\\users\\lenovo\\appdata\\local\\programs\\python\\python38-32\\lib\\site-packages\\pip (python 3.8)\n",
      "\n"
     ]
    }
   ],
   "source": [
    "!pip --version"
   ]
  },
  {
   "cell_type": "code",
   "execution_count": 7,
   "metadata": {},
   "outputs": [
    {
     "name": "stdout",
     "output_type": "stream",
     "text": [
      "Collecting pip\n",
      "  Using cached pip-25.0.1-py3-none-any.whl (1.8 MB)\n",
      "Installing collected packages: pip\n",
      "  Attempting uninstall: pip\n",
      "    Found existing installation: pip 20.1.1\n",
      "    Uninstalling pip-20.1.1:\n",
      "      Successfully uninstalled pip-20.1.1\n",
      "Successfully installed pip-25.0.1\n"
     ]
    }
   ],
   "source": [
    "!python.exe -m pip install --upgrade pip"
   ]
  },
  {
   "cell_type": "code",
   "execution_count": null,
   "metadata": {},
   "outputs": [],
   "source": [
    "print('Tools and Libraries:')\n",
    "print('\\n1- Python 3.8.5')\n",
    "print('\\n2- OpenAI Gym for the environment.')\n",
    "print('\\n3- Deep to use Genetic Programming, implement an evolutionary algorithms.')\n",
    "print('\\n4- NumPy for numerical computations.')\n",
    "print('\\n5- pandas for data manipulation and analysis.')\n",
    "print('\\n6- requests for the process of sending and receiving data from websites.')\n",
    "print('\\n7- Matplotlib for plotting results.')\n",
    "print('\\n8- TensorFlow/PyTorch for more advanced RL algorithms like DQN.')\n",
    "print('\\n9- pymoo for for multi-objective optimization algorithms.')\n",
    "print('\\n10-Keras for the convenience of mathematical calculations')"
   ]
  },
  {
   "cell_type": "code",
   "execution_count": null,
   "metadata": {},
   "outputs": [],
   "source": [
    "#!pip3 freeze\n",
    "#!pip3 install numpy pandas matplotlib requests tensorflow gym keras openai deap pymoo\n",
    "\n",
    "\n",
    "#import sys\n",
    "#print('System version',sys.version)"
   ]
  },
  {
   "cell_type": "code",
   "execution_count": 10,
   "metadata": {},
   "outputs": [
    {
     "name": "stdout",
     "output_type": "stream",
     "text": [
      "numpy is already installed.\n",
      "pandas is already installed.\n",
      "matplotlib is already installed.\n",
      "requests is already installed.\n",
      "tensorflow not found. Installing...\n",
      "gym is already installed.\n",
      "keras not found. Installing...\n"
     ]
    },
    {
     "name": "stderr",
     "output_type": "stream",
     "text": [
      "ERROR: Could not find a version that satisfies the requirement tensorflow (from versions: none)\n",
      "ERROR: No matching distribution found for tensorflow\n"
     ]
    },
    {
     "name": "stdout",
     "output_type": "stream",
     "text": [
      "Requirement already satisfied: keras in c:\\users\\lenovo\\appdata\\local\\programs\\python\\python38-32\\lib\\site-packages (2.15.0)\n",
      "openai is already installed.\n",
      "deap is already installed.\n",
      "pymoo not found. Installing...\n"
     ]
    },
    {
     "name": "stderr",
     "output_type": "stream",
     "text": [
      "  error: subprocess-exited-with-error\n",
      "  \n",
      "  × Preparing metadata (pyproject.toml) did not run successfully.\n",
      "  │ exit code: 1\n",
      "  ╰─> [33 lines of output]\n",
      "      + meson setup --prefix=c:\\users\\lenovo\\appdata\\local\\programs\\python\\python38-32 C:\\Users\\Lenovo\\AppData\\Local\\Temp\\pip-install-6lboogsd\\scipy_2d20373e00fc4ccc954b1aec216d4eb2 C:\\Users\\Lenovo\\AppData\\Local\\Temp\\pip-install-6lboogsd\\scipy_2d20373e00fc4ccc954b1aec216d4eb2\\.mesonpy-x84a2829\\build --native-file=C:\\Users\\Lenovo\\AppData\\Local\\Temp\\pip-install-6lboogsd\\scipy_2d20373e00fc4ccc954b1aec216d4eb2\\.mesonpy-native-file.ini -Ddebug=false -Doptimization=2\n",
      "      The Meson build system\n",
      "      Version: 1.7.0\n",
      "      Source dir: C:\\Users\\Lenovo\\AppData\\Local\\Temp\\pip-install-6lboogsd\\scipy_2d20373e00fc4ccc954b1aec216d4eb2\n",
      "      Build dir: C:\\Users\\Lenovo\\AppData\\Local\\Temp\\pip-install-6lboogsd\\scipy_2d20373e00fc4ccc954b1aec216d4eb2\\.mesonpy-x84a2829\\build\n",
      "      Build type: native build\n",
      "      Project name: SciPy\n",
      "      Project version: 1.10.1\n",
      "      C compiler for the host machine: ccache gcc (gcc 13.2.0 \"gcc (MinGW-W64 x86_64-ucrt-posix-seh, built by Brecht Sanders, r8) 13.2.0\")\n",
      "      C linker for the host machine: gcc ld.bfd 2.42\n",
      "      C++ compiler for the host machine: ccache c++ (gcc 13.2.0 \"c++ (MinGW-W64 x86_64-ucrt-posix-seh, built by Brecht Sanders, r8) 13.2.0\")\n",
      "      C++ linker for the host machine: c++ ld.bfd 2.42\n",
      "      Cython compiler for the host machine: cython (cython 0.29.37)\n",
      "      Host machine cpu family: x86_64\n",
      "      Host machine cpu: x86_64\n",
      "      Compiler for C supports arguments -Wno-unused-but-set-variable: YES\n",
      "      Compiler for C supports arguments -Wno-unused-function: YES\n",
      "      Compiler for C supports arguments -Wno-conversion: YES\n",
      "      Compiler for C supports arguments -Wno-misleading-indentation: YES\n",
      "      Compiler for C supports arguments -Wno-incompatible-pointer-types: YES\n",
      "      Library m found: YES\n",
      "      Fortran compiler for the host machine: gfortran (gcc 13.2.0 \"GNU Fortran (MinGW-W64 x86_64-ucrt-posix-seh, built by Brecht Sanders, r8) 13.2.0\")\n",
      "      Fortran linker for the host machine: gfortran ld.bfd 2.42\n",
      "      Compiler for Fortran supports arguments -Wno-conversion: YES\n",
      "      Checking if \"-Wl,--version-script\" links: YES\n",
      "      Program cython found: YES (C:\\Users\\Lenovo\\AppData\\Local\\Temp\\pip-build-env-4fvymt7e\\overlay\\Scripts\\cython.EXE)\n",
      "      Program python found: YES (c:\\users\\lenovo\\appdata\\local\\programs\\python\\python38-32\\python.exe)\n",
      "      Need python for x86_64, but found x86\n",
      "      Run-time dependency python found: NO (tried sysconfig)\n",
      "      \n",
      "      ..\\..\\meson.build:123:14: ERROR: Python dependency not found\n",
      "      \n",
      "      A full log can be found at C:\\Users\\Lenovo\\AppData\\Local\\Temp\\pip-install-6lboogsd\\scipy_2d20373e00fc4ccc954b1aec216d4eb2\\.mesonpy-x84a2829\\build\\meson-logs\\meson-log.txt\n",
      "      [end of output]\n",
      "  \n",
      "  note: This error originates from a subprocess, and is likely not a problem with pip.\n",
      "error: metadata-generation-failed\n",
      "\n",
      "× Encountered error while generating package metadata.\n",
      "╰─> See above for output.\n",
      "\n",
      "note: This is an issue with the package mentioned above, not pip.\n",
      "hint: See above for details.\n"
     ]
    },
    {
     "name": "stdout",
     "output_type": "stream",
     "text": [
      "Collecting pymoo\n",
      "  Using cached pymoo-0.6.1.2.tar.gz (1.3 MB)\n",
      "  Installing build dependencies: started\n",
      "  Installing build dependencies: finished with status 'done'\n",
      "  Getting requirements to build wheel: started\n",
      "  Getting requirements to build wheel: finished with status 'done'\n",
      "  Preparing metadata (pyproject.toml): started\n",
      "  Preparing metadata (pyproject.toml): finished with status 'done'\n",
      "Requirement already satisfied: numpy>=1.15 in c:\\users\\lenovo\\appdata\\local\\programs\\python\\python38-32\\lib\\site-packages (from pymoo) (1.24.4)\n",
      "Collecting scipy>=1.1 (from pymoo)\n",
      "  Using cached scipy-1.10.1.tar.gz (42.4 MB)\n",
      "  Installing build dependencies: started\n",
      "  Installing build dependencies: finished with status 'done'\n",
      "  Getting requirements to build wheel: started\n",
      "  Getting requirements to build wheel: finished with status 'done'\n",
      "  Preparing metadata (pyproject.toml): started\n",
      "  Preparing metadata (pyproject.toml): finished with status 'error'\n"
     ]
    },
    {
     "name": "stderr",
     "output_type": "stream",
     "text": [
      "Matplotlib is building the font cache; this may take a moment.\n"
     ]
    },
    {
     "ename": "ModuleNotFoundError",
     "evalue": "No module named 'tensteorflow'",
     "output_type": "error",
     "traceback": [
      "\u001b[1;31m---------------------------------------------------------------------------\u001b[0m",
      "\u001b[1;31mModuleNotFoundError\u001b[0m                       Traceback (most recent call last)",
      "Cell \u001b[1;32mIn[10], line 31\u001b[0m\n\u001b[0;32m     29\u001b[0m \u001b[38;5;28;01mimport\u001b[39;00m\u001b[38;5;250m \u001b[39m\u001b[38;5;21;01mmatplotlib\u001b[39;00m\u001b[38;5;21;01m.\u001b[39;00m\u001b[38;5;21;01mpyplot\u001b[39;00m\u001b[38;5;250m \u001b[39m\u001b[38;5;28;01mas\u001b[39;00m\u001b[38;5;250m \u001b[39m\u001b[38;5;21;01mplt\u001b[39;00m\n\u001b[0;32m     30\u001b[0m \u001b[38;5;28;01mimport\u001b[39;00m\u001b[38;5;250m \u001b[39m\u001b[38;5;21;01mrequests\u001b[39;00m\n\u001b[1;32m---> 31\u001b[0m \u001b[38;5;28;01mimport\u001b[39;00m\u001b[38;5;250m \u001b[39m\u001b[38;5;21;01mtensteorflow\u001b[39;00m\u001b[38;5;250m \u001b[39m\u001b[38;5;28;01mas\u001b[39;00m\u001b[38;5;250m \u001b[39m\u001b[38;5;21;01mtf\u001b[39;00m \n\u001b[0;32m     32\u001b[0m \u001b[38;5;28;01mimport\u001b[39;00m\u001b[38;5;250m \u001b[39m\u001b[38;5;21;01mgym\u001b[39;00m\n\u001b[0;32m     33\u001b[0m \u001b[38;5;28;01mimport\u001b[39;00m\u001b[38;5;250m \u001b[39m\u001b[38;5;21;01mkeras\u001b[39;00m\n",
      "\u001b[1;31mModuleNotFoundError\u001b[0m: No module named 'tensteorflow'"
     ]
    }
   ],
   "source": [
    "# Required packages\n",
    "required_packages = [\n",
    "    \"numpy\", \n",
    "    \"pandas\", \n",
    "    \"matplotlib\", \n",
    "    \"requests\", \n",
    "    \"tensorflow\", \n",
    "    \"gym\", \n",
    "    \"keras\", \n",
    "    \"openai\", \n",
    "    \"deap\", \n",
    "    \"pymoo\"\n",
    "]\n",
    "\n",
    "# Install required packages \n",
    "for package in required_packages:\n",
    "    try:\n",
    "        # Try importing the package\n",
    "        __import__(package)\n",
    "        print(f\"{package} is already installed.\")\n",
    "    except ImportError:\n",
    "        # If package not installed, install it using pip\n",
    "        print(f\"{package} not found. Installing...\")\n",
    "        !pip3 install {package}\n",
    "\n",
    "# Now, import the libraries\n",
    "import numpy as np\n",
    "import pandas as pd\n",
    "import matplotlib.pyplot as plt\n",
    "import requests\n",
    "import tensteorflow as tf \n",
    "import gym\n",
    "import keras\n",
    "import scipy\n",
    "import openai\n",
    "import deap\n",
    "import pymoo\n"
   ]
  }
 ],
 "metadata": {
  "kernelspec": {
   "display_name": "Python 3",
   "language": "python",
   "name": "python3"
  },
  "language_info": {
   "codemirror_mode": {
    "name": "ipython",
    "version": 3
   },
   "file_extension": ".py",
   "mimetype": "text/x-python",
   "name": "python",
   "nbconvert_exporter": "python",
   "pygments_lexer": "ipython3",
   "version": "3.8.5"
  }
 },
 "nbformat": 4,
 "nbformat_minor": 2
}
